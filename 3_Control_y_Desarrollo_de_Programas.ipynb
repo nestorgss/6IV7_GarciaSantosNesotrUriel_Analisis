{
  "cells": [
    {
      "cell_type": "markdown",
      "id": "89030283-116c-4976-8e73-b89f8381e6f3",
      "metadata": {
        "id": "89030283-116c-4976-8e73-b89f8381e6f3"
      },
      "source": [
        "# 3.- Control y desarrollo de Programas"
      ]
    },
    {
      "cell_type": "markdown",
      "id": "dbbe85a8-e01d-4b2f-a971-a40e971242ad",
      "metadata": {
        "id": "dbbe85a8-e01d-4b2f-a971-a40e971242ad"
      },
      "source": [
        "## 3.3 Algoritmos"
      ]
    },
    {
      "cell_type": "markdown",
      "id": "1e24fd7e-76ad-4e6f-80db-907c3ddae4d5",
      "metadata": {
        "id": "1e24fd7e-76ad-4e6f-80db-907c3ddae4d5"
      },
      "source": [
        "#### Por tu cuenta\n",
        "\n",
        "Escribe el programa de python que realice las instrucciones en el algoritmo 3.3 de tu manual."
      ]
    },
    {
      "cell_type": "code",
      "execution_count": 2,
      "id": "ea7857f1-87e9-4e21-9e39-83ab4bd47a0a",
      "metadata": {
        "colab": {
          "base_uri": "https://localhost:8080/"
        },
        "id": "ea7857f1-87e9-4e21-9e39-83ab4bd47a0a",
        "outputId": "98e6269a-f147-4345-b9d8-d55a2f7627e0"
      },
      "outputs": [
        {
          "name": "stdout",
          "output_type": "stream",
          "text": [
            "Escribe tu año de nacimiento: 2000\n",
            "Si puedes votar\n"
          ]
        }
      ],
      "source": [
        "año=int(input(\"Escribe tu año de nacimiento: \"))\n",
        "edad=2021-año\n",
        "if edad>=18:\n",
        "    print(\"Si puedes votar\")\n",
        "else:\n",
        "    print(\"No puedes votar\")"
      ]
    },
    {
      "cell_type": "markdown",
      "id": "301cb629-91e3-433c-800f-baad2534271e",
      "metadata": {
        "id": "301cb629-91e3-433c-800f-baad2534271e"
      },
      "source": [
        "## 3.7.- Sentencia if"
      ]
    },
    {
      "cell_type": "markdown",
      "id": "410f8e45-c2d2-460f-87f6-9ea211142915",
      "metadata": {
        "id": "410f8e45-c2d2-460f-87f6-9ea211142915"
      },
      "source": [
        "El usuario proporciona su año de nacimiento\n",
        "La cantidad debe leerse como un entero\n",
        "Si la variable 2021 – año de nacimiento, es mayor o igual a 25,\n",
        "el programa debe mostrar: Posible cliente"
      ]
    },
    {
      "cell_type": "code",
      "execution_count": 3,
      "id": "d20cc775-bacf-4494-baf2-43a2a9bf013a",
      "metadata": {
        "colab": {
          "base_uri": "https://localhost:8080/"
        },
        "id": "d20cc775-bacf-4494-baf2-43a2a9bf013a",
        "outputId": "0c04173f-eb45-41da-fe5a-b511e4d0566a"
      },
      "outputs": [
        {
          "name": "stdout",
          "output_type": "stream",
          "text": [
            "Posible cliente\n"
          ]
        }
      ],
      "source": [
        "año=1993\n",
        "if 2021-año>=25:\n",
        "    print(\"Posible cliente\")"
      ]
    },
    {
      "cell_type": "markdown",
      "id": "9c93db3a-9773-40da-8d2f-f3b52be77c1d",
      "metadata": {
        "id": "9c93db3a-9773-40da-8d2f-f3b52be77c1d"
      },
      "source": [
        "Si no se añade indentación... error"
      ]
    },
    {
      "cell_type": "code",
      "execution_count": 4,
      "id": "72ed4d90-d281-4c11-aca1-f4f6765b6527",
      "metadata": {
        "colab": {
          "base_uri": "https://localhost:8080/",
          "height": 106
        },
        "id": "72ed4d90-d281-4c11-aca1-f4f6765b6527",
        "outputId": "4fd850b0-1047-4b1a-d899-403bab6f7e36"
      },
      "outputs": [
        {
          "ename": "IndentationError",
          "evalue": "expected an indented block after 'if' statement on line 2 (<ipython-input-4-a4b36773adba>, line 3)",
          "output_type": "error",
          "traceback": [
            "\u001b[0;36m  File \u001b[0;32m\"<ipython-input-4-a4b36773adba>\"\u001b[0;36m, line \u001b[0;32m3\u001b[0m\n\u001b[0;31m    print(\"Posible cliente\")\u001b[0m\n\u001b[0m    ^\u001b[0m\n\u001b[0;31mIndentationError\u001b[0m\u001b[0;31m:\u001b[0m expected an indented block after 'if' statement on line 2\n"
          ]
        }
      ],
      "source": [
        "año=1993\n",
        "if 2021-año>=25:\n",
        "print(\"Posible cliente\")"
      ]
    },
    {
      "cell_type": "markdown",
      "id": "3ffd478d-5723-4baf-9845-10412bf3ff67",
      "metadata": {
        "id": "3ffd478d-5723-4baf-9845-10412bf3ff67"
      },
      "source": [
        "Hay que poner identación en todos lados"
      ]
    },
    {
      "cell_type": "code",
      "execution_count": 6,
      "id": "8c0bf0c4-4f38-423c-b6b9-ff116ac9d4eb",
      "metadata": {
        "colab": {
          "base_uri": "https://localhost:8080/",
          "height": 106
        },
        "id": "8c0bf0c4-4f38-423c-b6b9-ff116ac9d4eb",
        "outputId": "c5e79590-890a-4d9c-b239-3300eb2a15fb"
      },
      "outputs": [
        {
          "ename": "IndentationError",
          "evalue": "expected an indented block after 'if' statement on line 2 (<ipython-input-6-ec93cff4af8a>, line 3)",
          "output_type": "error",
          "traceback": [
            "\u001b[0;36m  File \u001b[0;32m\"<ipython-input-6-ec93cff4af8a>\"\u001b[0;36m, line \u001b[0;32m3\u001b[0m\n\u001b[0;31m    print('Posible cliente')\u001b[0m\n\u001b[0m    ^\u001b[0m\n\u001b[0;31mIndentationError\u001b[0m\u001b[0;31m:\u001b[0m expected an indented block after 'if' statement on line 2\n"
          ]
        }
      ],
      "source": [
        "año=1993\n",
        "if 2021-año >= 25:\n",
        "print('Posible cliente')\n",
        "print('Proporcione información del seguro')"
      ]
    },
    {
      "cell_type": "markdown",
      "id": "a74cf5cc-5c5b-459e-bb49-9fb8683d514d",
      "metadata": {
        "id": "a74cf5cc-5c5b-459e-bb49-9fb8683d514d"
      },
      "source": [
        "Todas las expresiones pueden ser interpretadas como falsas y verdaderas"
      ]
    },
    {
      "cell_type": "markdown",
      "id": "c8e79e45-5fc7-4a17-ad46-59d024196579",
      "metadata": {
        "id": "c8e79e45-5fc7-4a17-ad46-59d024196579"
      },
      "source": [
        "#### Por tu cuenta\n",
        "\n",
        "Cambia la fecha de nacimiento al 2002 del primer código"
      ]
    },
    {
      "cell_type": "code",
      "execution_count": 7,
      "id": "_3qSf8BWLUuM",
      "metadata": {
        "colab": {
          "base_uri": "https://localhost:8080/",
          "height": 106
        },
        "id": "_3qSf8BWLUuM",
        "outputId": "8ab72bed-49d3-4a7e-c62f-58e08be41626"
      },
      "outputs": [
        {
          "ename": "SyntaxError",
          "evalue": "invalid character '‘' (U+2018) (<ipython-input-7-96ea6be1d2b9>, line 4)",
          "output_type": "error",
          "traceback": [
            "\u001b[0;36m  File \u001b[0;32m\"<ipython-input-7-96ea6be1d2b9>\"\u001b[0;36m, line \u001b[0;32m4\u001b[0m\n\u001b[0;31m    print(‘Proporciona información’)\u001b[0m\n\u001b[0m          ^\u001b[0m\n\u001b[0;31mSyntaxError\u001b[0m\u001b[0;31m:\u001b[0m invalid character '‘' (U+2018)\n"
          ]
        }
      ],
      "source": [
        "año=2002\n",
        "if 2021-año>=25:\n",
        "    print(\"Posible cliente\")\n"
      ]
    },
    {
      "cell_type": "markdown",
      "id": "d4c29904-0f82-468e-9b25-3bcf5e671341",
      "metadata": {
        "id": "d4c29904-0f82-468e-9b25-3bcf5e671341"
      },
      "source": [
        "## 3.8.- Sentencia if..else, if..elif...else"
      ]
    },
    {
      "cell_type": "markdown",
      "id": "9cd25587-cc7a-4202-b3e5-5e99369a0f6c",
      "metadata": {
        "id": "9cd25587-cc7a-4202-b3e5-5e99369a0f6c"
      },
      "source": [
        "El usuario proporciona su año de nacimiento\n",
        "\n",
        "La cantidad debe leerse como un entero\n",
        "\n",
        "Si la variable 2021 – año de nacimiento, es mayor o igual a 25,\n",
        "\n",
        "el programa debe mostrar: Posible cliente\n",
        "\n",
        "en otro caso,\n",
        "\n",
        "debe mostrar: No es candidato"
      ]
    },
    {
      "cell_type": "markdown",
      "id": "3c80901e-93b7-4c46-8042-a1d135f92142",
      "metadata": {
        "id": "3c80901e-93b7-4c46-8042-a1d135f92142"
      },
      "source": [
        "OK, escribe el código de lo anterior, observa la identación, prueba para 1985"
      ]
    },
    {
      "cell_type": "code",
      "execution_count": 8,
      "id": "6fc8df95-ced6-476d-921f-a9c38acbcc1f",
      "metadata": {
        "id": "6fc8df95-ced6-476d-921f-a9c38acbcc1f"
      },
      "outputs": [],
      "source": [
        "año=1985"
      ]
    },
    {
      "cell_type": "code",
      "execution_count": 9,
      "id": "e7f0caec-9f05-4808-a009-d1a4348f24aa",
      "metadata": {
        "colab": {
          "base_uri": "https://localhost:8080/"
        },
        "id": "e7f0caec-9f05-4808-a009-d1a4348f24aa",
        "outputId": "601c508b-8a3f-497b-c9b0-e4f41d84c379"
      },
      "outputs": [
        {
          "name": "stdout",
          "output_type": "stream",
          "text": [
            "Posible cliente\n"
          ]
        }
      ],
      "source": [
        "\n",
        "if 2021-año>=25:\n",
        "    print(\"Posible cliente\")\n",
        "\n",
        "else:\n",
        "    print('No es candidato')"
      ]
    },
    {
      "cell_type": "markdown",
      "id": "eb5474b3-2c69-425d-b284-4b4973d3e4c4",
      "metadata": {
        "id": "eb5474b3-2c69-425d-b284-4b4973d3e4c4"
      },
      "source": [
        "Y ahora para 1999"
      ]
    },
    {
      "cell_type": "code",
      "execution_count": 10,
      "id": "a1c7c3e9-c733-414e-a384-0d594a6018aa",
      "metadata": {
        "id": "a1c7c3e9-c733-414e-a384-0d594a6018aa"
      },
      "outputs": [],
      "source": [
        "año=1999"
      ]
    },
    {
      "cell_type": "code",
      "execution_count": 11,
      "id": "0b66e4bb-1a5a-48e3-bb29-156982d7d48b",
      "metadata": {
        "colab": {
          "base_uri": "https://localhost:8080/"
        },
        "id": "0b66e4bb-1a5a-48e3-bb29-156982d7d48b",
        "outputId": "53120835-17e8-4fbc-b736-17d6a37e6920"
      },
      "outputs": [
        {
          "name": "stdout",
          "output_type": "stream",
          "text": [
            "No es candidato\n"
          ]
        }
      ],
      "source": [
        "\n",
        "if 2021-año>=25:\n",
        "    print(\"Posible cliente\")\n",
        "\n",
        "else:\n",
        "    print('No es candidato')"
      ]
    },
    {
      "cell_type": "markdown",
      "id": "b1cb650e-ff5d-4791-819e-3d4f31ae49f5",
      "metadata": {
        "id": "b1cb650e-ff5d-4791-819e-3d4f31ae49f5"
      },
      "source": [
        "Ok, otra alternativa es asignar las acciones a una variable"
      ]
    },
    {
      "cell_type": "code",
      "execution_count": 20,
      "id": "91b05b4c-e6ea-487c-8e23-341d6a5c33d2",
      "metadata": {
        "id": "91b05b4c-e6ea-487c-8e23-341d6a5c33d2"
      },
      "outputs": [],
      "source": [
        "año=1999"
      ]
    },
    {
      "cell_type": "code",
      "execution_count": 24,
      "id": "2859bcbc-92e4-4729-91f2-a295bdc701f8",
      "metadata": {
        "colab": {
          "base_uri": "https://localhost:8080/",
          "height": 35
        },
        "id": "2859bcbc-92e4-4729-91f2-a295bdc701f8",
        "outputId": "ec0024be-cd74-4858-9dc4-4c5ba831075c"
      },
      "outputs": [
        {
          "data": {
            "application/vnd.google.colaboratory.intrinsic+json": {
              "type": "string"
            },
            "text/plain": [
              "'No'"
            ]
          },
          "execution_count": 24,
          "metadata": {},
          "output_type": "execute_result"
        }
      ],
      "source": [
        "edad=2021-año\n",
        "if edad >= 25:\n",
        "  cliente='Si'\n",
        "else:\n",
        "  cliente='No'"
      ]
    },
    {
      "cell_type": "code",
      "execution_count": 22,
      "id": "tUfzWAO-My6l",
      "metadata": {
        "colab": {
          "base_uri": "https://localhost:8080/",
          "height": 35
        },
        "id": "tUfzWAO-My6l",
        "outputId": "89d22a78-ee10-48b7-f3e7-501964b2bcca"
      },
      "outputs": [
        {
          "data": {
            "application/vnd.google.colaboratory.intrinsic+json": {
              "type": "string"
            },
            "text/plain": [
              "'No'"
            ]
          },
          "execution_count": 22,
          "metadata": {},
          "output_type": "execute_result"
        }
      ],
      "source": [
        "cliente"
      ]
    },
    {
      "cell_type": "markdown",
      "id": "06bd7ff2-8017-4580-8cf4-845751e7143f",
      "metadata": {
        "id": "06bd7ff2-8017-4580-8cf4-845751e7143f"
      },
      "source": [
        "Cada condición (if) puede realizar más de una acción - solo recuerda indentar"
      ]
    },
    {
      "cell_type": "code",
      "execution_count": null,
      "id": "2JvXgTilNsvk",
      "metadata": {
        "id": "2JvXgTilNsvk"
      },
      "outputs": [],
      "source": [
        "año=2002"
      ]
    },
    {
      "cell_type": "code",
      "execution_count": 25,
      "id": "6a033eb5-34cd-4a18-8aca-170cce1ee3f3",
      "metadata": {
        "colab": {
          "base_uri": "https://localhost:8080/"
        },
        "id": "6a033eb5-34cd-4a18-8aca-170cce1ee3f3",
        "outputId": "871f5a4a-420c-42e8-981b-fbfa26d13e71"
      },
      "outputs": [
        {
          "name": "stdout",
          "output_type": "stream",
          "text": [
            "No es candidato\n",
            "Busca a otra persona\n"
          ]
        }
      ],
      "source": [
        "if 2021-año >= 25:\n",
        "    print('Posible cliente')\n",
        "    print('Proporciona información')\n",
        "else:\n",
        "    print('No es candidato')\n",
        "    print('Busca a otra persona')"
      ]
    },
    {
      "cell_type": "markdown",
      "id": "1781ed40-5814-4600-a8b6-2d9e5a816e9a",
      "metadata": {
        "id": "1781ed40-5814-4600-a8b6-2d9e5a816e9a"
      },
      "source": [
        "Por que si dejamos sin identación, siempre se va a ejecutar (y es un mundo de errores)"
      ]
    },
    {
      "cell_type": "code",
      "execution_count": 27,
      "id": "7eff9135-4ba5-4585-a359-d99a9846fb2c",
      "metadata": {
        "colab": {
          "base_uri": "https://localhost:8080/"
        },
        "id": "7eff9135-4ba5-4585-a359-d99a9846fb2c",
        "outputId": "08e64890-a9a6-4609-ff14-ae78d52e2062"
      },
      "outputs": [
        {
          "name": "stdout",
          "output_type": "stream",
          "text": [
            "No es candidato\n",
            "Busca a otra persona\n"
          ]
        }
      ],
      "source": [
        "año=2002\n",
        "if 2021-año >= 25:\n",
        "  print('Posible cliente')\n",
        "  print('Proporciona información')\n",
        "else:\n",
        "  print('No es candidato')\n",
        "  print('Busca a otra persona')\n"
      ]
    },
    {
      "cell_type": "markdown",
      "id": "45f8933d-a55f-4236-833d-8058d16395e6",
      "metadata": {
        "id": "45f8933d-a55f-4236-833d-8058d16395e6"
      },
      "source": [
        "Si la edad de la persona es mayor o igual a 60\n",
        "Mostrar: Adulto Mayor\n",
        "Si la edad de la persona es mayor o igual a 27\n",
        "Mostrar: Adulto\n",
        "Si la edad de la persona es mayor o igual a 18\n",
        "Mostrar: Joven\n",
        "Si la edad de la persona es mayor o igual a 12\n",
        "Mostrar: Adolescente\n",
        "En otro caso,\n",
        "Mostrar: Infante"
      ]
    },
    {
      "cell_type": "markdown",
      "id": "861e7951-f7d3-467c-9f92-e534069381c6",
      "metadata": {
        "id": "861e7951-f7d3-467c-9f92-e534069381c6"
      },
      "source": [
        "#### Por tu Cuenta\n",
        "\n",
        "Arma un programa basado en el pseudocódigo anterior"
      ]
    },
    {
      "cell_type": "code",
      "execution_count": null,
      "id": "c8fd22ba-77a5-4033-a35a-d00947458df5",
      "metadata": {
        "id": "c8fd22ba-77a5-4033-a35a-d00947458df5"
      },
      "outputs": [],
      "source": [
        "edad = int(input(\"Introduce la edad de la persona: \"))"
      ]
    },
    {
      "cell_type": "code",
      "execution_count": null,
      "id": "34170795-15d0-4f83-821a-b214b2d0126d",
      "metadata": {
        "id": "34170795-15d0-4f83-821a-b214b2d0126d"
      },
      "outputs": [],
      "source": [
        "if edad >= 60:\n",
        "    print(\"Adulto Mayor\")\n",
        "elif edad >= 27:\n",
        "    print(\"Adulto\")\n",
        "elif edad >= 18:\n",
        "    print(\"Joven\")\n",
        "elif edad >= 12:\n",
        "    print(\"Adolescente\")\n",
        "else:\n",
        "    print(\"Infante\")\n"
      ]
    },
    {
      "cell_type": "markdown",
      "id": "6a350229-d037-49b8-8a10-831c579ac107",
      "metadata": {
        "id": "6a350229-d037-49b8-8a10-831c579ac107"
      },
      "source": [
        "## 3.9.- Sentencia While"
      ]
    },
    {
      "cell_type": "markdown",
      "id": "c774587b-29d9-475f-9912-24ab63b9fc04",
      "metadata": {
        "id": "c774587b-29d9-475f-9912-24ab63b9fc04"
      },
      "source": [
        "Iniciar con potencia=4\n",
        "Mientras que potencia sea menor o igual a 817\n",
        "Potencia=potencia*4"
      ]
    },
    {
      "cell_type": "markdown",
      "id": "c91db9d8-93f3-4d3a-a657-9b2b47f3aa50",
      "metadata": {
        "id": "c91db9d8-93f3-4d3a-a657-9b2b47f3aa50"
      },
      "source": [
        "Arma un programa que ejecute el pseudocódigo anterior"
      ]
    },
    {
      "cell_type": "code",
      "execution_count": null,
      "id": "fc738513-065b-4ede-be43-077f8cb20581",
      "metadata": {
        "id": "fc738513-065b-4ede-be43-077f8cb20581"
      },
      "outputs": [],
      "source": [
        "potencia = 4"
      ]
    },
    {
      "cell_type": "code",
      "execution_count": null,
      "id": "609c2a31-d0c2-45bc-a645-4866d3718e8e",
      "metadata": {
        "id": "609c2a31-d0c2-45bc-a645-4866d3718e8e"
      },
      "outputs": [],
      "source": [
        "while potencia <= 817:\n",
        "    potencia = potencia * 4"
      ]
    },
    {
      "cell_type": "code",
      "execution_count": null,
      "id": "c2b6e02b-4a66-4a55-80bb-1fcd2b7b69d4",
      "metadata": {
        "id": "c2b6e02b-4a66-4a55-80bb-1fcd2b7b69d4"
      },
      "outputs": [],
      "source": [
        "print(potencia)"
      ]
    },
    {
      "cell_type": "markdown",
      "id": "3cc4527c-0db2-489c-b3f4-6824da60fe0d",
      "metadata": {
        "id": "3cc4527c-0db2-489c-b3f4-6824da60fe0d"
      },
      "source": [
        "# 3.10.- Sentencia For"
      ]
    },
    {
      "cell_type": "markdown",
      "id": "faf76ecb-2024-4504-b999-397258a8b613",
      "metadata": {
        "id": "faf76ecb-2024-4504-b999-397258a8b613"
      },
      "source": [
        "Analiza el siguiente ejemplo\n",
        "\n",
        "for caracter in ‘Palabra’:\n",
        "    print(caracter, end=’ ‘)\n",
        "\n"
      ]
    },
    {
      "cell_type": "code",
      "execution_count": null,
      "id": "2be519f0-0b2f-41cd-889a-324243b1c74e",
      "metadata": {
        "id": "2be519f0-0b2f-41cd-889a-324243b1c74e"
      },
      "outputs": [],
      "source": [
        "for caracter in 'Palabra':\n",
        "    print(caracter, end='')"
      ]
    },
    {
      "cell_type": "markdown",
      "id": "836a856c-ded9-42f9-b816-ca57889fdbc2",
      "metadata": {
        "id": "836a856c-ded9-42f9-b816-ca57889fdbc2"
      },
      "source": [
        "Arma un programa que te calcule el factorial de algún número dado"
      ]
    },
    {
      "cell_type": "code",
      "execution_count": 29,
      "id": "7269cb54-02c7-4b6f-b400-bc8b9d573d01",
      "metadata": {
        "colab": {
          "base_uri": "https://localhost:8080/"
        },
        "id": "7269cb54-02c7-4b6f-b400-bc8b9d573d01",
        "outputId": "cc821713-c227-4957-9c72-d1b39e966efc"
      },
      "outputs": [
        {
          "data": {
            "text/plain": [
              "120"
            ]
          },
          "execution_count": 29,
          "metadata": {},
          "output_type": "execute_result"
        }
      ],
      "source": [
        "fact=1\n",
        "for nmro in [1,2,3,4,5]:\n",
        "  fact=fact*nmro\n",
        "fact\n"
      ]
    },
    {
      "cell_type": "markdown",
      "id": "48fe5311-9076-44f6-8ef0-59ba0c09c9ea",
      "metadata": {
        "id": "48fe5311-9076-44f6-8ef0-59ba0c09c9ea"
      },
      "source": [
        "Conoce el operador *= que te permite guardar el resultado en si mismo"
      ]
    },
    {
      "cell_type": "code",
      "execution_count": null,
      "id": "2e627ca5-8755-455c-be36-b4df3deae649",
      "metadata": {
        "id": "2e627ca5-8755-455c-be36-b4df3deae649"
      },
      "outputs": [],
      "source": [
        "fact=1\n",
        "for nmro in [1,2,3,4,5]:\n",
        "  fact*=nmro\n",
        "fact\n"
      ]
    },
    {
      "cell_type": "markdown",
      "id": "f8ee4c02-8084-4b20-beb0-ffddf7f9e8a4",
      "metadata": {
        "id": "f8ee4c02-8084-4b20-beb0-ffddf7f9e8a4"
      },
      "source": [
        "Podemos usar range si la suceción de elementos en for es una suscesión ordenada"
      ]
    },
    {
      "cell_type": "code",
      "execution_count": null,
      "id": "016bb41a-99fd-4aee-aad0-ee994eb082cc",
      "metadata": {
        "id": "016bb41a-99fd-4aee-aad0-ee994eb082cc"
      },
      "outputs": [],
      "source": [
        "for contador in range(5)\n",
        "  print(contador, end='' )"
      ]
    },
    {
      "cell_type": "markdown",
      "id": "89526fc0-663e-405b-9b71-4ad0c5eb77d6",
      "metadata": {
        "id": "89526fc0-663e-405b-9b71-4ad0c5eb77d6"
      },
      "source": [
        "Si necesitas salir del ciclo usa Break.\n",
        "\n",
        "Haz un programa que para todos los números del 1-10, muestre el número en pantalla... peeeero al llegar al 8 haga break."
      ]
    },
    {
      "cell_type": "code",
      "execution_count": null,
      "id": "7b739677-ee9b-4511-aae4-e295dcf24242",
      "metadata": {
        "id": "7b739677-ee9b-4511-aae4-e295dcf24242"
      },
      "outputs": [],
      "source": [
        "for i in range(1, 11):\n",
        "    if i == 8:\n",
        "        break\n",
        "    print(i)\n"
      ]
    },
    {
      "cell_type": "markdown",
      "id": "9ec03229-a673-4e57-be0a-44708327b956",
      "metadata": {
        "id": "9ec03229-a673-4e57-be0a-44708327b956"
      },
      "source": [
        "#### Por tu cuenta\n",
        "\n",
        "Usa for para calcular el consumo promedio de los siguientes clientes\n",
        "\n",
        "[130,85,210,45,153,78.5,264.5,94]\n",
        "\n",
        "Esta lista te muestra el consumo de cada cliente"
      ]
    },
    {
      "cell_type": "code",
      "execution_count": null,
      "id": "793cbe1c-3303-4284-a5f9-da91d55cbcc6",
      "metadata": {
        "id": "793cbe1c-3303-4284-a5f9-da91d55cbcc6"
      },
      "outputs": [],
      "source": [
        "consumos = [130, 85, 210, 45, 153, 78.5, 264.5, 94]\n",
        "\n",
        "total_consumo = 0\n",
        "num_clientes = len(consumos)\n",
        "\n",
        "for consumo in consumos:\n",
        "    total_consumo += consumo\n",
        "\n",
        "promedio = total_consumo / num_clientes\n",
        "print(f\"El consumo promedio de los clientes es: {promedio}\")\n"
      ]
    },
    {
      "cell_type": "markdown",
      "id": "4dfbadfd-4552-40bb-be14-f0a06f6cc589",
      "metadata": {
        "id": "4dfbadfd-4552-40bb-be14-f0a06f6cc589"
      },
      "source": [
        "#### Por tu cuenta\n",
        "\n",
        "usa for para calcular el interes compuesto de una persona que invierte $10,000 en una cuenta que rinde el 8% de intereses. Supon que la persona reinvierte los intereses. Calcula la cantida ddel dinero al final de 10 años"
      ]
    },
    {
      "cell_type": "code",
      "execution_count": null,
      "id": "6ae87f0a-c126-4686-a68a-718750cd6cb4",
      "metadata": {
        "id": "6ae87f0a-c126-4686-a68a-718750cd6cb4"
      },
      "outputs": [],
      "source": [
        "principal = 10000  # Monto inicial\n",
        "tasa_interes = 0.08  # Tasa de interés del 8%\n",
        "años = 10  # Número de años\n",
        "\n",
        "monto_final = principal\n",
        "\n",
        "for _ in range(años):\n",
        "    monto_final *= (1 + tasa_interes)\n",
        "\n",
        "print(f\"El monto final después de {años} años es: ${monto_final:.2f}\")\n"
      ]
    },
    {
      "cell_type": "markdown",
      "id": "f70e0474-b78c-41e6-b4bf-b7d406afc18e",
      "metadata": {
        "id": "f70e0474-b78c-41e6-b4bf-b7d406afc18e"
      },
      "source": [
        "#### Por tu cuenta\n",
        "\n",
        "En una tienda de autoservicio hay un promotor en la sección de productos lácteos. La empresa\n",
        "para la que trabaja, le otorga un premio económico si rebasa $200 de ventas (venta meta) por\n",
        "cliente. La empresa cuenta con un registro en donde están marcadas las ventas de 8 clientes que\n",
        "adquirieron algunos de los productos de la marca. Por cada cliente que rebasó la cantidad meta se\n",
        "escribe 1, y si no la rebasa se escribe 2. Si número de clientes que rebasan la venta meta es más de\n",
        "la mitad, se le otorga el premio al promotor. Se requiere de un programa que señale si al promotor\n",
        "se le debe asignar el premio económico"
      ]
    },
    {
      "cell_type": "code",
      "execution_count": null,
      "id": "709467af-aa12-4e2b-a6f9-9ddbf3dc5cf4",
      "metadata": {
        "id": "709467af-aa12-4e2b-a6f9-9ddbf3dc5cf4"
      },
      "outputs": [],
      "source": [
        "ventas = [1, 2, 1, 2, 1, 1, 2, 1]  # 1 si el cliente rebasó la venta meta, 2 si no la rebasó\n",
        "\n",
        "clientes_que_rebasaron = 0\n",
        "\n",
        "# Contamos cuántos clientes rebasaron la venta meta\n",
        "for venta in ventas:\n",
        "    if venta == 1:\n",
        "        clientes_que_rebasaron += 1\n",
        "\n",
        "# Si más de la mitad de los clientes rebasaron la meta, se le asigna el premio\n",
        "if clientes_que_rebasaron > len(ventas) / 2:\n",
        "    print(\"El promotor recibe el premio económico.\")\n",
        "else:\n",
        "    print(\"El promotor no recibe el premio económico.\")\n"
      ]
    },
    {
      "cell_type": "markdown",
      "id": "f8d3b5e3-6330-4c14-b58a-0cca551d2859",
      "metadata": {
        "id": "f8d3b5e3-6330-4c14-b58a-0cca551d2859"
      },
      "source": [
        "## 3.11.- Operadores Booleanos"
      ]
    },
    {
      "cell_type": "markdown",
      "id": "6c08d764-a3d9-4a66-b302-3d2b6ea26c9a",
      "metadata": {
        "id": "6c08d764-a3d9-4a66-b302-3d2b6ea26c9a"
      },
      "source": [
        "Arma un programa que revise si un cliente registró su mail Y que su salario mensual sea mayor a 20,000 pesos para poder declararlo como posible cliente"
      ]
    },
    {
      "cell_type": "markdown",
      "id": "OS5jtE9OQ7iE",
      "metadata": {
        "id": "OS5jtE9OQ7iE"
      },
      "source": []
    },
    {
      "cell_type": "code",
      "execution_count": null,
      "id": "0zAmBSPjSBcU",
      "metadata": {
        "id": "0zAmBSPjSBcU"
      },
      "outputs": [],
      "source": []
    },
    {
      "cell_type": "code",
      "execution_count": 31,
      "id": "5a56ad9a-8461-4b37-9822-ae169684fd99",
      "metadata": {
        "colab": {
          "base_uri": "https://localhost:8080/"
        },
        "id": "5a56ad9a-8461-4b37-9822-ae169684fd99",
        "outputId": "8b1a1ab2-4575-4501-f5da-4aac7e381147"
      },
      "outputs": [
        {
          "name": "stdout",
          "output_type": "stream",
          "text": [
            "Introduce el correo electrónico del cliente: AS\n",
            "Introduce el salario mensual del cliente: 12\n",
            "No es cliente posible\n"
          ]
        }
      ],
      "source": [
        "email = input(\"Introduce el correo electrónico del cliente: \")\n",
        "salario = float(input(\"Introduce el salario mensual del cliente: \"))\n",
        "if email and salario > 20000:\n",
        "    print(\"Cliente posible\")\n",
        "else:\n",
        "    print(\"No es cliente posible\")"
      ]
    },
    {
      "cell_type": "markdown",
      "id": "ef7df93f-b65c-44a8-8003-0eab0051c033",
      "metadata": {
        "id": "ef7df93f-b65c-44a8-8003-0eab0051c033"
      },
      "source": [
        "Arma un programa que revise si un posible candidato laboral va tiene titulo o al menos 5 años de experiencia laboral para poder llamarlo a entrevista"
      ]
    },
    {
      "cell_type": "code",
      "execution_count": null,
      "id": "53f119f7-01eb-46d9-b9c8-be1eb9ecdcb2",
      "metadata": {
        "id": "53f119f7-01eb-46d9-b9c8-be1eb9ecdcb2"
      },
      "outputs": [],
      "source": [
        "titulo = input(\"¿El candidato tiene título universitario? (sí/no): \").strip().lower() == 'sí'\n",
        "años_experiencia = int(input(\"Introduce los años de experiencia laboral del candidato: \"))\n",
        "if titulo or años_experiencia >= 5:\n",
        "        print(\"Candidato seleccionado para entrevista\")\n",
        "else:\n",
        "        print(\"Candidato no seleccionado\")"
      ]
    }
  ],
  "metadata": {
    "colab": {
      "provenance": []
    },
    "kernelspec": {
      "display_name": "Python 3",
      "language": "python",
      "name": "python3"
    },
    "language_info": {
      "codemirror_mode": {
        "name": "ipython",
        "version": 3
      },
      "file_extension": ".py",
      "mimetype": "text/x-python",
      "name": "python",
      "nbconvert_exporter": "python",
      "pygments_lexer": "ipython3",
      "version": "3.8.8"
    }
  },
  "nbformat": 4,
  "nbformat_minor": 5
}
