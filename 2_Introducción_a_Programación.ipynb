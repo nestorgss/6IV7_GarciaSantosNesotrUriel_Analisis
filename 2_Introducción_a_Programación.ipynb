{
  "cells": [
    {
      "cell_type": "markdown",
      "id": "107f48ee-52a0-4c31-8616-62f0c6d08c44",
      "metadata": {
        "id": "107f48ee-52a0-4c31-8616-62f0c6d08c44"
      },
      "source": [
        "# 2.-Introducción a la Programación con Python"
      ]
    },
    {
      "cell_type": "markdown",
      "id": "b4b3f36d-d890-4bbf-9a7d-d3b41fac5f28",
      "metadata": {
        "id": "b4b3f36d-d890-4bbf-9a7d-d3b41fac5f28"
      },
      "source": [
        "## 2.2.- Operadores Aritméticos"
      ]
    },
    {
      "cell_type": "markdown",
      "id": "c4ef828e-4186-407b-ad79-ba97eed7c741",
      "metadata": {
        "id": "c4ef828e-4186-407b-ad79-ba97eed7c741"
      },
      "source": [
        "### 2.2.1.- Variables y asignaciones"
      ]
    },
    {
      "cell_type": "markdown",
      "id": "ea41ab63-e16c-49b9-83c6-d596c6d5bf1f",
      "metadata": {
        "id": "ea41ab63-e16c-49b9-83c6-d596c6d5bf1f"
      },
      "source": [
        "Ya has usado iPython de calculadora con expresiones como sumas"
      ]
    },
    {
      "cell_type": "code",
      "execution_count": 13,
      "id": "41ca1908-31b9-4400-bde9-859935737dbf",
      "metadata": {
        "colab": {
          "base_uri": "https://localhost:8080/"
        },
        "id": "41ca1908-31b9-4400-bde9-859935737dbf",
        "outputId": "024c9e62-79e1-4f3b-ae0e-5be1a6641b25"
      },
      "outputs": [
        {
          "output_type": "execute_result",
          "data": {
            "text/plain": [
              "11"
            ]
          },
          "metadata": {},
          "execution_count": 13
        }
      ],
      "source": [
        "9+2"
      ]
    },
    {
      "cell_type": "markdown",
      "id": "67de4824-f60b-42ad-94c0-88ef30c200f7",
      "metadata": {
        "id": "67de4824-f60b-42ad-94c0-88ef30c200f7"
      },
      "source": [
        "Creemos una variable w que valga 39"
      ]
    },
    {
      "cell_type": "code",
      "execution_count": 14,
      "id": "8bc4f8d0-21dc-49ab-9dcc-3f3cff6dcad1",
      "metadata": {
        "id": "8bc4f8d0-21dc-49ab-9dcc-3f3cff6dcad1"
      },
      "outputs": [],
      "source": [
        "w=39"
      ]
    },
    {
      "cell_type": "markdown",
      "id": "9c91670c-5e61-498d-98b5-ffed9823c035",
      "metadata": {
        "id": "9c91670c-5e61-498d-98b5-ffed9823c035"
      },
      "source": [
        "Es útil realizar estas declaraciones, ya que las declaraciones permiten almacenar valores que pueden ser útiles posteriormente. Por ejemplo:"
      ]
    },
    {
      "cell_type": "code",
      "execution_count": 15,
      "id": "f99306ff-a0fa-4337-b651-0153f28dd099",
      "metadata": {
        "id": "f99306ff-a0fa-4337-b651-0153f28dd099",
        "colab": {
          "base_uri": "https://localhost:8080/"
        },
        "outputId": "47110834-9394-47ff-a56b-fe5df5823236"
      },
      "outputs": [
        {
          "output_type": "execute_result",
          "data": {
            "text/plain": [
              "11"
            ]
          },
          "metadata": {},
          "execution_count": 15
        }
      ],
      "source": [
        "9+2"
      ]
    },
    {
      "cell_type": "code",
      "source": [
        "z=7\n"
      ],
      "metadata": {
        "id": "m15gyphyiRbD"
      },
      "id": "m15gyphyiRbD",
      "execution_count": null,
      "outputs": []
    },
    {
      "cell_type": "code",
      "source": [
        "w/z"
      ],
      "metadata": {
        "colab": {
          "base_uri": "https://localhost:8080/"
        },
        "id": "Tz_2L8hNiXCH",
        "outputId": "195b7271-82aa-4520-f8eb-cc3673d447b8"
      },
      "id": "Tz_2L8hNiXCH",
      "execution_count": null,
      "outputs": [
        {
          "output_type": "execute_result",
          "data": {
            "text/plain": [
              "5.571428571428571"
            ]
          },
          "metadata": {},
          "execution_count": 33
        }
      ]
    },
    {
      "cell_type": "markdown",
      "id": "c4545a41-a888-4f8f-abd8-2db07631a346",
      "metadata": {
        "id": "c4545a41-a888-4f8f-abd8-2db07631a346"
      },
      "source": [
        "Continuando con esta forma de declarar las variables, también podemos asignar"
      ]
    },
    {
      "cell_type": "code",
      "source": [
        "division=w/z"
      ],
      "metadata": {
        "id": "LYRzHlU6ilRv"
      },
      "id": "LYRzHlU6ilRv",
      "execution_count": null,
      "outputs": []
    },
    {
      "cell_type": "code",
      "source": [
        "division"
      ],
      "metadata": {
        "colab": {
          "base_uri": "https://localhost:8080/"
        },
        "id": "y-0WkDuiioyD",
        "outputId": "8a11f7ac-d961-47be-cdd3-58dee07a76d9"
      },
      "id": "y-0WkDuiioyD",
      "execution_count": null,
      "outputs": [
        {
          "output_type": "execute_result",
          "data": {
            "text/plain": [
              "5.571428571428571"
            ]
          },
          "metadata": {},
          "execution_count": 37
        }
      ]
    },
    {
      "cell_type": "markdown",
      "source": [],
      "metadata": {
        "id": "SyksTi7WiEwW"
      },
      "id": "SyksTi7WiEwW"
    },
    {
      "cell_type": "code",
      "execution_count": null,
      "id": "cbf482f5-cbbd-4ea4-bc2c-99b6e62be741",
      "metadata": {
        "id": "cbf482f5-cbbd-4ea4-bc2c-99b6e62be741"
      },
      "outputs": [],
      "source": [
        "a=\"Hola\""
      ]
    },
    {
      "cell_type": "markdown",
      "source": [],
      "metadata": {
        "id": "_G1PbCJJiQZD"
      },
      "id": "_G1PbCJJiQZD"
    },
    {
      "cell_type": "code",
      "execution_count": null,
      "id": "9ba3b30a-b0e7-4312-9978-77743e51a615",
      "metadata": {
        "id": "9ba3b30a-b0e7-4312-9978-77743e51a615"
      },
      "outputs": [],
      "source": [
        "b=\"Como estas\""
      ]
    },
    {
      "cell_type": "code",
      "execution_count": null,
      "id": "b2302f65-a9fc-4c31-bb85-be4e7b8ffd8f",
      "metadata": {
        "id": "b2302f65-a9fc-4c31-bb85-be4e7b8ffd8f"
      },
      "outputs": [],
      "source": [
        "c=False"
      ]
    },
    {
      "cell_type": "markdown",
      "id": "d115b081-5d07-49e9-b258-92ff1171045d",
      "metadata": {
        "id": "d115b081-5d07-49e9-b258-92ff1171045d"
      },
      "source": [
        "Observa lo que ocurre si escribes"
      ]
    },
    {
      "cell_type": "code",
      "execution_count": null,
      "id": "9fb52bea-5cd2-4da1-a8bd-36271b55caa3",
      "metadata": {
        "colab": {
          "base_uri": "https://localhost:8080/",
          "height": 141
        },
        "id": "9fb52bea-5cd2-4da1-a8bd-36271b55caa3",
        "outputId": "06a6d75b-20ca-407a-f6ee-883cb3ab9331"
      },
      "outputs": [
        {
          "output_type": "error",
          "ename": "NameError",
          "evalue": "name 'Division' is not defined",
          "traceback": [
            "\u001b[0;31m---------------------------------------------------------------------------\u001b[0m",
            "\u001b[0;31mNameError\u001b[0m                                 Traceback (most recent call last)",
            "\u001b[0;32m<ipython-input-38-4623079ffc39>\u001b[0m in \u001b[0;36m<cell line: 0>\u001b[0;34m()\u001b[0m\n\u001b[0;32m----> 1\u001b[0;31m \u001b[0mDivision\u001b[0m\u001b[0;34m\u001b[0m\u001b[0;34m\u001b[0m\u001b[0m\n\u001b[0m",
            "\u001b[0;31mNameError\u001b[0m: name 'Division' is not defined"
          ]
        }
      ],
      "source": [
        "Division"
      ]
    },
    {
      "cell_type": "markdown",
      "id": "10b311be-a87f-48fe-ac68-fd758a6531d5",
      "metadata": {
        "id": "10b311be-a87f-48fe-ac68-fd758a6531d5"
      },
      "source": [
        "¿De qué tipo es la variable división?. Teclea type(división)"
      ]
    },
    {
      "cell_type": "code",
      "execution_count": null,
      "id": "6f9311d2-bbe9-4fb5-8ed9-7391b69b344a",
      "metadata": {
        "colab": {
          "base_uri": "https://localhost:8080/"
        },
        "id": "6f9311d2-bbe9-4fb5-8ed9-7391b69b344a",
        "outputId": "53330332-4a5f-4b6e-b1d5-3e850f5a91a0"
      },
      "outputs": [
        {
          "output_type": "execute_result",
          "data": {
            "text/plain": [
              "float"
            ]
          },
          "metadata": {},
          "execution_count": 40
        }
      ],
      "source": [
        "\n",
        "type(division)"
      ]
    },
    {
      "cell_type": "markdown",
      "id": "a8787aa5-1a17-4584-895a-af65cc8caccc",
      "metadata": {
        "id": "a8787aa5-1a17-4584-895a-af65cc8caccc"
      },
      "source": [
        " Python reconoce a la variable w como un entero."
      ]
    },
    {
      "cell_type": "code",
      "execution_count": null,
      "id": "afe037f0-de37-41e2-953d-d844e0a80fda",
      "metadata": {
        "colab": {
          "base_uri": "https://localhost:8080/"
        },
        "id": "afe037f0-de37-41e2-953d-d844e0a80fda",
        "outputId": "808ed75f-ea5a-4179-915e-55e4051e1c43"
      },
      "outputs": [
        {
          "output_type": "execute_result",
          "data": {
            "text/plain": [
              "int"
            ]
          },
          "metadata": {},
          "execution_count": 28
        }
      ],
      "source": [
        "type(w)"
      ]
    },
    {
      "cell_type": "code",
      "source": [
        "3/0"
      ],
      "metadata": {
        "colab": {
          "base_uri": "https://localhost:8080/",
          "height": 141
        },
        "id": "ke4hn8KZjSiB",
        "outputId": "4f438635-05f1-4c3c-f086-436affa78989"
      },
      "id": "ke4hn8KZjSiB",
      "execution_count": null,
      "outputs": [
        {
          "output_type": "error",
          "ename": "ZeroDivisionError",
          "evalue": "division by zero",
          "traceback": [
            "\u001b[0;31m---------------------------------------------------------------------------\u001b[0m",
            "\u001b[0;31mZeroDivisionError\u001b[0m                         Traceback (most recent call last)",
            "\u001b[0;32m<ipython-input-42-f6cc6d14333b>\u001b[0m in \u001b[0;36m<cell line: 0>\u001b[0;34m()\u001b[0m\n\u001b[0;32m----> 1\u001b[0;31m \u001b[0;36m3\u001b[0m\u001b[0;34m/\u001b[0m\u001b[0;36m0\u001b[0m\u001b[0;34m\u001b[0m\u001b[0;34m\u001b[0m\u001b[0m\n\u001b[0m",
            "\u001b[0;31mZeroDivisionError\u001b[0m: division by zero"
          ]
        }
      ]
    },
    {
      "cell_type": "markdown",
      "id": "005e7373-42db-4a0d-adfd-9bbce8142a24",
      "metadata": {
        "id": "005e7373-42db-4a0d-adfd-9bbce8142a24"
      },
      "source": [
        "#### Por tu cuenta\n",
        "\n",
        "Calcula la suma de 10.8, 12.2 y 0.2, guardala en una variable llamada b, y muestra la variable"
      ]
    },
    {
      "cell_type": "code",
      "execution_count": null,
      "id": "b311d94d-52f6-4118-a6aa-76bea95587ab",
      "metadata": {
        "colab": {
          "base_uri": "https://localhost:8080/"
        },
        "id": "b311d94d-52f6-4118-a6aa-76bea95587ab",
        "outputId": "c8bee152-2540-4a9a-b812-fdd34adfcc31"
      },
      "outputs": [
        {
          "output_type": "execute_result",
          "data": {
            "text/plain": [
              "23.2"
            ]
          },
          "metadata": {},
          "execution_count": 43
        }
      ],
      "source": [
        "b=10.8+12.2+0.2\n",
        "b"
      ]
    },
    {
      "cell_type": "markdown",
      "id": "9465c9ba-b34b-429a-8881-36d24df64a7e",
      "metadata": {
        "id": "9465c9ba-b34b-429a-8881-36d24df64a7e"
      },
      "source": [
        "### 2.2.2.- Aritmetica"
      ]
    },
    {
      "cell_type": "markdown",
      "id": "7b42b218-4742-47d9-b736-e98261be0587",
      "metadata": {
        "id": "7b42b218-4742-47d9-b736-e98261be0587"
      },
      "source": [
        "##### Multiplicación\n",
        "\n",
        "Realiza un 7 * 4"
      ]
    },
    {
      "cell_type": "code",
      "execution_count": null,
      "id": "6b91ef2e-d2e0-4b02-8f26-0711925b0776",
      "metadata": {
        "colab": {
          "base_uri": "https://localhost:8080/"
        },
        "id": "6b91ef2e-d2e0-4b02-8f26-0711925b0776",
        "outputId": "7ff9dba7-39f0-42bb-bfb2-13434c291444"
      },
      "outputs": [
        {
          "output_type": "execute_result",
          "data": {
            "text/plain": [
              "28"
            ]
          },
          "metadata": {},
          "execution_count": 44
        }
      ],
      "source": [
        "7*4"
      ]
    },
    {
      "cell_type": "markdown",
      "id": "6d23d001-7a4c-4145-b914-2f82ed77037a",
      "metadata": {
        "id": "6d23d001-7a4c-4145-b914-2f82ed77037a"
      },
      "source": [
        "##### Exponenciación\n",
        "\n",
        "Realiza un 2 ** 4"
      ]
    },
    {
      "cell_type": "code",
      "execution_count": null,
      "id": "9099f0a2-8c8a-43bb-89f7-1777ad5ffcad",
      "metadata": {
        "colab": {
          "base_uri": "https://localhost:8080/"
        },
        "id": "9099f0a2-8c8a-43bb-89f7-1777ad5ffcad",
        "outputId": "22941eb3-8f8c-44ff-e7e5-2379629a4e3f"
      },
      "outputs": [
        {
          "output_type": "execute_result",
          "data": {
            "text/plain": [
              "16"
            ]
          },
          "metadata": {},
          "execution_count": 45
        }
      ],
      "source": [
        "2**4"
      ]
    },
    {
      "cell_type": "markdown",
      "id": "7221d3fd-6edd-4646-960e-5234eb1224cb",
      "metadata": {
        "id": "7221d3fd-6edd-4646-960e-5234eb1224cb"
      },
      "source": [
        "##### División Verdadera\n",
        "\n",
        "Divide 8/5"
      ]
    },
    {
      "cell_type": "code",
      "execution_count": null,
      "id": "956eaff7-044d-4321-9117-9c79838fdfe9",
      "metadata": {
        "colab": {
          "base_uri": "https://localhost:8080/"
        },
        "id": "956eaff7-044d-4321-9117-9c79838fdfe9",
        "outputId": "db6ba31e-a291-4e47-d78e-3c6b4846af54"
      },
      "outputs": [
        {
          "output_type": "execute_result",
          "data": {
            "text/plain": [
              "1.6"
            ]
          },
          "metadata": {},
          "execution_count": 46
        }
      ],
      "source": [
        "8/5"
      ]
    },
    {
      "cell_type": "markdown",
      "id": "acd82688-1da7-4d4b-8770-a2c8cf1a9959",
      "metadata": {
        "id": "acd82688-1da7-4d4b-8770-a2c8cf1a9959"
      },
      "source": [
        "##### División de piso\n",
        "\n",
        "Divide 20//6 - verás como te da un rsultado entero"
      ]
    },
    {
      "cell_type": "code",
      "execution_count": null,
      "id": "5bdd55d8-2a08-49b5-80bd-98c741b5b3a1",
      "metadata": {
        "colab": {
          "base_uri": "https://localhost:8080/"
        },
        "id": "5bdd55d8-2a08-49b5-80bd-98c741b5b3a1",
        "outputId": "05d72f2e-08f6-43a9-db74-753bcd5bdaca"
      },
      "outputs": [
        {
          "output_type": "execute_result",
          "data": {
            "text/plain": [
              "3"
            ]
          },
          "metadata": {},
          "execution_count": 47
        }
      ],
      "source": [
        "20//6"
      ]
    },
    {
      "cell_type": "markdown",
      "id": "7c5a2f8a-d79d-40f6-a019-ac2ad4e176b8",
      "metadata": {
        "id": "7c5a2f8a-d79d-40f6-a019-ac2ad4e176b8"
      },
      "source": [
        "##### Restante\n",
        "\n",
        "Ahora obten el restante de dividir 26 / 8 usando el operador %"
      ]
    },
    {
      "cell_type": "code",
      "execution_count": null,
      "id": "06df6019-2880-42da-bc70-e8fe75b8085f",
      "metadata": {
        "colab": {
          "base_uri": "https://localhost:8080/"
        },
        "id": "06df6019-2880-42da-bc70-e8fe75b8085f",
        "outputId": "aa6e4a4f-db21-4d86-eefb-d2778dd00679"
      },
      "outputs": [
        {
          "output_type": "execute_result",
          "data": {
            "text/plain": [
              "2"
            ]
          },
          "metadata": {},
          "execution_count": 48
        }
      ],
      "source": [
        "26%8"
      ]
    },
    {
      "cell_type": "markdown",
      "id": "3259cdcb-13a8-40c6-99fa-bd6611dabc99",
      "metadata": {
        "id": "3259cdcb-13a8-40c6-99fa-bd6611dabc99"
      },
      "source": [
        "##### Agrupación con parentesis\n",
        "\n",
        "Checa que python respeta la jerarquia de operaciones"
      ]
    },
    {
      "cell_type": "code",
      "execution_count": null,
      "id": "15f252d5-a478-49d9-b98e-01630d77d227",
      "metadata": {
        "colab": {
          "base_uri": "https://localhost:8080/"
        },
        "id": "15f252d5-a478-49d9-b98e-01630d77d227",
        "outputId": "0be2c277-2d03-4c11-c46b-cad032ed79e0"
      },
      "outputs": [
        {
          "output_type": "execute_result",
          "data": {
            "text/plain": [
              "2"
            ]
          },
          "metadata": {},
          "execution_count": 49
        }
      ],
      "source": [
        "1+2**4%5\n"
      ]
    },
    {
      "cell_type": "markdown",
      "id": "f280f822-c9b1-4c44-91a3-c6a18ee83f2b",
      "metadata": {
        "id": "f280f822-c9b1-4c44-91a3-c6a18ee83f2b"
      },
      "source": [
        "#### Por tu cuenta\n",
        "\n",
        "Evalua la expresión 3*(4-5) con y sin parentesis. Son los paréntesis redundantes?"
      ]
    },
    {
      "cell_type": "code",
      "source": [
        "3*(4-5)"
      ],
      "metadata": {
        "colab": {
          "base_uri": "https://localhost:8080/"
        },
        "id": "Cwucl8v3kWk7",
        "outputId": "9815b2b5-d2ad-4b1f-ac76-145bcf54b8cc"
      },
      "id": "Cwucl8v3kWk7",
      "execution_count": null,
      "outputs": [
        {
          "output_type": "execute_result",
          "data": {
            "text/plain": [
              "-3"
            ]
          },
          "metadata": {},
          "execution_count": 50
        }
      ]
    },
    {
      "cell_type": "code",
      "source": [
        "3*4-5"
      ],
      "metadata": {
        "colab": {
          "base_uri": "https://localhost:8080/"
        },
        "id": "tNrEyLYqkZBD",
        "outputId": "d2a2db65-3ed2-4023-a7f3-2a8258d3d41d"
      },
      "id": "tNrEyLYqkZBD",
      "execution_count": null,
      "outputs": [
        {
          "output_type": "execute_result",
          "data": {
            "text/plain": [
              "7"
            ]
          },
          "metadata": {},
          "execution_count": 51
        }
      ]
    },
    {
      "cell_type": "markdown",
      "id": "fc5d8121-3fa3-42e7-beb4-bee00ea356c4",
      "metadata": {
        "id": "fc5d8121-3fa3-42e7-beb4-bee00ea356c4"
      },
      "source": [
        "---"
      ]
    },
    {
      "cell_type": "markdown",
      "id": "fcbe6ca4-24fd-4150-b7bb-f870814b662e",
      "metadata": {
        "id": "fcbe6ca4-24fd-4150-b7bb-f870814b662e"
      },
      "source": [
        "## 2.3.- Función print, arreglos con comillas simples y dobles comillas"
      ]
    },
    {
      "cell_type": "markdown",
      "id": "d5b0476e-8651-4ade-acbe-5a03a0866865",
      "metadata": {
        "id": "d5b0476e-8651-4ade-acbe-5a03a0866865"
      },
      "source": [
        "### 2.3.1.- La función Print"
      ]
    },
    {
      "cell_type": "markdown",
      "id": "18ca616b-3a2c-4184-8381-3a5e6a970e8d",
      "metadata": {
        "id": "18ca616b-3a2c-4184-8381-3a5e6a970e8d"
      },
      "source": [
        "ejecuta el siguiente snippet\n",
        "\n",
        "**print(“Hoy aprenderé a usar la función print”)**"
      ]
    },
    {
      "cell_type": "code",
      "execution_count": null,
      "id": "058c39e6-75ad-4a4a-b97c-44dc1d4bd4cc",
      "metadata": {
        "colab": {
          "base_uri": "https://localhost:8080/"
        },
        "id": "058c39e6-75ad-4a4a-b97c-44dc1d4bd4cc",
        "outputId": "0bd400b5-8d2c-4446-8d53-8e6edcfaec75"
      },
      "outputs": [
        {
          "output_type": "stream",
          "name": "stdout",
          "text": [
            "Hoy aprenderé a usar la funcion print\n"
          ]
        }
      ],
      "source": [
        "print('Hoy aprenderé a usar la funcion print')"
      ]
    },
    {
      "cell_type": "code",
      "execution_count": null,
      "id": "cd3ab393-c28b-4d4c-aac9-23ea0389ef07",
      "metadata": {
        "colab": {
          "base_uri": "https://localhost:8080/"
        },
        "id": "cd3ab393-c28b-4d4c-aac9-23ea0389ef07",
        "outputId": "75755eb9-748f-4417-a7b1-fdd378422fa9"
      },
      "outputs": [
        {
          "output_type": "stream",
          "name": "stdout",
          "text": [
            "Hoy aprenderé a usar la función print\n"
          ]
        }
      ],
      "source": [
        "print(\"Hoy aprenderé a usar la función print\")"
      ]
    },
    {
      "cell_type": "markdown",
      "id": "8269f4b5-ae18-416f-be14-a05d1da536e2",
      "metadata": {
        "id": "8269f4b5-ae18-416f-be14-a05d1da536e2"
      },
      "source": [
        "Ahora Ejecuta\n",
        "\n",
        "**Print(“Hoy aprenderé a usar la función print”)**"
      ]
    },
    {
      "cell_type": "code",
      "execution_count": null,
      "id": "8100353f-2679-469d-b979-46a710dac3a0",
      "metadata": {
        "colab": {
          "base_uri": "https://localhost:8080/",
          "height": 106
        },
        "id": "8100353f-2679-469d-b979-46a710dac3a0",
        "outputId": "8027846b-5ef3-43ea-fff5-aad1ae1e8d27"
      },
      "outputs": [
        {
          "output_type": "error",
          "ename": "SyntaxError",
          "evalue": "invalid character '“' (U+201C) (<ipython-input-56-b14a6334c4d3>, line 1)",
          "traceback": [
            "\u001b[0;36m  File \u001b[0;32m\"<ipython-input-56-b14a6334c4d3>\"\u001b[0;36m, line \u001b[0;32m1\u001b[0m\n\u001b[0;31m    Print(“Hoy aprenderé a usar la función print”)\u001b[0m\n\u001b[0m          ^\u001b[0m\n\u001b[0;31mSyntaxError\u001b[0m\u001b[0;31m:\u001b[0m invalid character '“' (U+201C)\n"
          ]
        }
      ],
      "source": [
        "Print(“Hoy aprenderé a usar la función print”)"
      ]
    },
    {
      "cell_type": "markdown",
      "id": "63a86fc8-6aee-4501-8474-4b11c0cdd7e6",
      "metadata": {
        "id": "63a86fc8-6aee-4501-8474-4b11c0cdd7e6"
      },
      "source": [
        "Por ejemplo, para declarar el arreglo\n",
        "Hoy aprenderé a usar la función ‘print’"
      ]
    },
    {
      "cell_type": "markdown",
      "id": "36f2a965-9b25-4353-9af0-ae233e25fbe8",
      "metadata": {
        "id": "36f2a965-9b25-4353-9af0-ae233e25fbe8"
      },
      "source": [
        "**print(“Hoy aprenderé a usar la función ‘print’”)**"
      ]
    },
    {
      "cell_type": "code",
      "execution_count": null,
      "id": "45a00297-3508-4bf3-aa5b-dff48ff9fe2d",
      "metadata": {
        "colab": {
          "base_uri": "https://localhost:8080/",
          "height": 106
        },
        "id": "45a00297-3508-4bf3-aa5b-dff48ff9fe2d",
        "outputId": "ba14f13a-182f-4d20-807d-35880c39854b"
      },
      "outputs": [
        {
          "output_type": "error",
          "ename": "SyntaxError",
          "evalue": "invalid character '“' (U+201C) (<ipython-input-61-9645a128f9fa>, line 1)",
          "traceback": [
            "\u001b[0;36m  File \u001b[0;32m\"<ipython-input-61-9645a128f9fa>\"\u001b[0;36m, line \u001b[0;32m1\u001b[0m\n\u001b[0;31m    print(“Hoy aprenderé a usar la función ‘print’”)\u001b[0m\n\u001b[0m          ^\u001b[0m\n\u001b[0;31mSyntaxError\u001b[0m\u001b[0;31m:\u001b[0m invalid character '“' (U+201C)\n"
          ]
        }
      ],
      "source": [
        "print(“Hoy aprenderé a usar la función ‘print’”)"
      ]
    },
    {
      "cell_type": "markdown",
      "id": "bde0dc8c-4eaf-4745-99f3-28da569395a3",
      "metadata": {
        "id": "bde0dc8c-4eaf-4745-99f3-28da569395a3"
      },
      "source": [
        "### 2.3.1.- Triples comillas\n",
        "\n",
        "Esto se resuelve utilizando dobles comillas"
      ]
    },
    {
      "cell_type": "code",
      "execution_count": null,
      "id": "e0fdec45-8cb7-4be5-994c-87eef67685d9",
      "metadata": {
        "colab": {
          "base_uri": "https://localhost:8080/"
        },
        "id": "e0fdec45-8cb7-4be5-994c-87eef67685d9",
        "outputId": "002d58f8-ac81-4305-ba05-c3c7733ccb0f"
      },
      "outputs": [
        {
          "output_type": "stream",
          "name": "stdout",
          "text": [
            "Hoy aprenderé a usar la función ‘print’\n"
          ]
        }
      ],
      "source": [
        "print(\"Hoy aprenderé a usar la función ‘print’\")"
      ]
    },
    {
      "cell_type": "markdown",
      "id": "ea86c6b8-771a-4617-9fec-a93916e87a53",
      "metadata": {
        "id": "ea86c6b8-771a-4617-9fec-a93916e87a53"
      },
      "source": [
        "Esta diferencia será más obvia cuando trabajemos líneas de texto en el ambiente de JupyterLab.\n",
        "Otras opciones para insertar texto el prompt de Anaconda son\n",
        "\n",
        "**print(‘Hoy aprenderé’,’a usar’, ‘la función print’)**\n",
        "\n",
        "**print(‘Hoy aprenderé\\n a usar\\n la función print’)**\n",
        "\n",
        "\n",
        "print(‘También aprenderé a dividir \\\n",
        "\n",
        "…: líneas de texto cuando las expresiones \\\n",
        "\n",
        "…: sean demasiado largas’)"
      ]
    },
    {
      "cell_type": "code",
      "execution_count": null,
      "id": "fe21f618-e1aa-450a-a732-ac880a71eaba",
      "metadata": {
        "colab": {
          "base_uri": "https://localhost:8080/"
        },
        "id": "fe21f618-e1aa-450a-a732-ac880a71eaba",
        "outputId": "19cf702a-9747-4947-a18e-097fb7e95c4b"
      },
      "outputs": [
        {
          "output_type": "stream",
          "name": "stdout",
          "text": [
            "Hoy aprenderé a usar la función print\n"
          ]
        }
      ],
      "source": [
        "print('Hoy aprenderé','a usar', 'la función print')"
      ]
    },
    {
      "cell_type": "code",
      "execution_count": null,
      "id": "c6db0446-e2b8-4222-8607-613a16ff8329",
      "metadata": {
        "colab": {
          "base_uri": "https://localhost:8080/"
        },
        "id": "c6db0446-e2b8-4222-8607-613a16ff8329",
        "outputId": "da61eb03-56a0-420b-c0f4-03cd2788b673"
      },
      "outputs": [
        {
          "output_type": "stream",
          "name": "stdout",
          "text": [
            "Hoy aprenderé\n",
            " a usar\n",
            " la función print\n"
          ]
        }
      ],
      "source": [
        "print('Hoy aprenderé\\n a usar\\n la función print')"
      ]
    },
    {
      "cell_type": "code",
      "execution_count": null,
      "id": "e478be1c-2a17-4323-9e34-48b79dd5bcbc",
      "metadata": {
        "colab": {
          "base_uri": "https://localhost:8080/"
        },
        "id": "e478be1c-2a17-4323-9e34-48b79dd5bcbc",
        "outputId": "b71cf998-66cb-4e97-b510-6d569561489b"
      },
      "outputs": [
        {
          "output_type": "stream",
          "name": "stdout",
          "text": [
            "También aprenderé a dividir líneas de texto cuando las expresiones sean demasiado largas\n"
          ]
        }
      ],
      "source": [
        "print('También aprenderé a dividir \\\n",
        "líneas de texto cuando las expresiones \\\n",
        "sean demasiado largas')\n"
      ]
    },
    {
      "cell_type": "markdown",
      "id": "da8ab0c5-ed69-491b-b0c3-b951eab1b304",
      "metadata": {
        "id": "da8ab0c5-ed69-491b-b0c3-b951eab1b304"
      },
      "source": [
        "Cuando requieras utilizar comillas dobles y sencillas en algún enunciado, por ejemplo\n",
        "\n",
        "Aprender ‘Python’, es realmente “sencillo”\n",
        "\n",
        "Es posible hacerlo utilizando triples comillas"
      ]
    },
    {
      "cell_type": "code",
      "execution_count": 2,
      "id": "610e6493-a12e-4519-a32e-a79194139457",
      "metadata": {
        "id": "610e6493-a12e-4519-a32e-a79194139457",
        "colab": {
          "base_uri": "https://localhost:8080/"
        },
        "outputId": "1317328a-a13b-4564-e36a-1f8c45808b6d"
      },
      "outputs": [
        {
          "output_type": "stream",
          "name": "stdout",
          "text": [
            "Aprender 'Python' es realmente \"sencillo\" \n"
          ]
        }
      ],
      "source": [
        "print(\"\"\"Aprender 'Python' es realmente \"sencillo\" \"\"\")"
      ]
    },
    {
      "cell_type": "code",
      "execution_count": null,
      "id": "00c20559-ed84-49a3-a6d7-f9133036c938",
      "metadata": {
        "id": "00c20559-ed84-49a3-a6d7-f9133036c938"
      },
      "outputs": [],
      "source": []
    },
    {
      "cell_type": "markdown",
      "id": "13741755-cfd3-4ced-bd60-8722bc73c0d2",
      "metadata": {
        "id": "13741755-cfd3-4ced-bd60-8722bc73c0d2"
      },
      "source": [
        "Con Python, puedes asignar a una variable un arreglo de caracteres\n",
        "\n",
        "**arreglo1=‘Hoy aprenderé a usar la función print’**"
      ]
    },
    {
      "cell_type": "code",
      "execution_count": 3,
      "id": "a825385d-73b8-4468-8bd3-594a5d7d6abe",
      "metadata": {
        "id": "a825385d-73b8-4468-8bd3-594a5d7d6abe"
      },
      "outputs": [],
      "source": [
        " arreglo1='Hoy aprenderé a usar la función print'"
      ]
    },
    {
      "cell_type": "code",
      "execution_count": 4,
      "id": "c4bd2820-8dc7-4cdc-9cec-4b0f2040c59d",
      "metadata": {
        "id": "c4bd2820-8dc7-4cdc-9cec-4b0f2040c59d",
        "colab": {
          "base_uri": "https://localhost:8080/"
        },
        "outputId": "a89be119-d69b-41d5-f6a9-d939e86a7230"
      },
      "outputs": [
        {
          "output_type": "stream",
          "name": "stdout",
          "text": [
            "Hoy aprenderé a usar la función print\n"
          ]
        }
      ],
      "source": [
        "print(arreglo1)"
      ]
    },
    {
      "cell_type": "code",
      "source": [
        "type(arreglo1)"
      ],
      "metadata": {
        "id": "7PgCTlDlAgAP"
      },
      "id": "7PgCTlDlAgAP",
      "execution_count": null,
      "outputs": []
    },
    {
      "cell_type": "markdown",
      "id": "3b14599d-02fb-4c28-8dfd-b27b01ee8e28",
      "metadata": {
        "id": "3b14599d-02fb-4c28-8dfd-b27b01ee8e28"
      },
      "source": [
        "Con estas herramientas, ya puedes mostrar los resultados de los cálculos en una forma más amigable\n",
        "\n",
        "Arma un programa que divida 2 variables y devuelva \"w elevado a la z da por resultado y\""
      ]
    },
    {
      "cell_type": "code",
      "execution_count": 8,
      "id": "6e2e6bd5-ccdc-4dad-9a3b-a98149839106",
      "metadata": {
        "id": "6e2e6bd5-ccdc-4dad-9a3b-a98149839106"
      },
      "outputs": [],
      "source": [
        "w=9"
      ]
    },
    {
      "cell_type": "code",
      "execution_count": 9,
      "id": "2a939657-8034-42dd-ab09-97046e3fcc19",
      "metadata": {
        "id": "2a939657-8034-42dd-ab09-97046e3fcc19"
      },
      "outputs": [],
      "source": [
        "z=2"
      ]
    },
    {
      "cell_type": "code",
      "execution_count": 10,
      "id": "212f99e9-b2d4-4f22-b12c-0690102154cb",
      "metadata": {
        "id": "212f99e9-b2d4-4f22-b12c-0690102154cb"
      },
      "outputs": [],
      "source": [
        "potencia=w**z"
      ]
    },
    {
      "cell_type": "code",
      "source": [
        "print('Nueve con potencia dos, es',potencia)"
      ],
      "metadata": {
        "colab": {
          "base_uri": "https://localhost:8080/"
        },
        "id": "p0SJ4SlOBv2l",
        "outputId": "c061ea62-fca3-4e8b-895a-855d57685a7d"
      },
      "id": "p0SJ4SlOBv2l",
      "execution_count": 11,
      "outputs": [
        {
          "output_type": "stream",
          "name": "stdout",
          "text": [
            "Nueve con potencia dos, es 81\n"
          ]
        }
      ]
    },
    {
      "cell_type": "markdown",
      "id": "b4585070-9949-427a-84f5-ccf0a3a7f9a1",
      "metadata": {
        "id": "b4585070-9949-427a-84f5-ccf0a3a7f9a1"
      },
      "source": [
        "### 2.3.1.- Obtener input del usuario\n",
        "\n",
        "Input que solicita al usuario la información específica que debe ingresar al programa\n",
        "\n",
        "**nombre=input(‘¿Cuál es tu nombre?’)**"
      ]
    },
    {
      "cell_type": "code",
      "execution_count": 12,
      "id": "371649c1-a963-41d4-8025-670791d36f73",
      "metadata": {
        "id": "371649c1-a963-41d4-8025-670791d36f73",
        "colab": {
          "base_uri": "https://localhost:8080/"
        },
        "outputId": "df9ab4f6-d40b-441b-c9b8-61b6ba932c62"
      },
      "outputs": [
        {
          "name": "stdout",
          "output_type": "stream",
          "text": [
            "¿Cuál es tu nombre?Daniel\n"
          ]
        }
      ],
      "source": [
        "nombre=input('¿Cuál es tu nombre?')"
      ]
    },
    {
      "cell_type": "markdown",
      "id": "a853d83c-f42c-4ed3-83eb-2f76d179f626",
      "metadata": {
        "id": "a853d83c-f42c-4ed3-83eb-2f76d179f626"
      },
      "source": [
        "Posteriormente puedes llamar a la variable nombre"
      ]
    },
    {
      "cell_type": "code",
      "source": [
        "nombre"
      ],
      "metadata": {
        "colab": {
          "base_uri": "https://localhost:8080/",
          "height": 35
        },
        "id": "eDAx0eNNC9vG",
        "outputId": "5d0ae2a0-5bef-4549-ff69-b652849df10d"
      },
      "id": "eDAx0eNNC9vG",
      "execution_count": 21,
      "outputs": [
        {
          "output_type": "execute_result",
          "data": {
            "text/plain": [
              "'DANIEL'"
            ],
            "application/vnd.google.colaboratory.intrinsic+json": {
              "type": "string"
            }
          },
          "metadata": {},
          "execution_count": 21
        }
      ]
    },
    {
      "cell_type": "code",
      "source": [
        "print(nombre)"
      ],
      "metadata": {
        "colab": {
          "base_uri": "https://localhost:8080/"
        },
        "id": "nLs55MRYDHtF",
        "outputId": "87a59293-37ba-43af-c041-be394c6fe335"
      },
      "id": "nLs55MRYDHtF",
      "execution_count": 22,
      "outputs": [
        {
          "output_type": "stream",
          "name": "stdout",
          "text": [
            "DANIEL\n"
          ]
        }
      ]
    },
    {
      "cell_type": "markdown",
      "id": "f4591abb-8139-466e-a48b-cda83af1bd14",
      "metadata": {
        "id": "f4591abb-8139-466e-a48b-cda83af1bd14"
      },
      "source": [
        "Por default, Python guarda las entradas que recibe del comando input como un arreglo. Checa el type en cuestión"
      ]
    },
    {
      "cell_type": "code",
      "execution_count": 23,
      "id": "cd0ea52b-96b1-4fcd-8be9-322e95a877aa",
      "metadata": {
        "id": "cd0ea52b-96b1-4fcd-8be9-322e95a877aa",
        "colab": {
          "base_uri": "https://localhost:8080/"
        },
        "outputId": "ce06f121-5845-4ce9-a6b0-7a5164f87d1a"
      },
      "outputs": [
        {
          "output_type": "execute_result",
          "data": {
            "text/plain": [
              "str"
            ]
          },
          "metadata": {},
          "execution_count": 23
        }
      ],
      "source": [
        "type(nombre)"
      ]
    },
    {
      "cell_type": "markdown",
      "id": "5a50edd7-4634-4c10-a0f9-e2a3fb07cd84",
      "metadata": {
        "id": "5a50edd7-4634-4c10-a0f9-e2a3fb07cd84"
      },
      "source": [
        "Arma un programa que te pida 2 números y los sume"
      ]
    },
    {
      "cell_type": "code",
      "execution_count": 25,
      "id": "74947eed-8b26-4a2a-9c0e-567bd73988b7",
      "metadata": {
        "id": "74947eed-8b26-4a2a-9c0e-567bd73988b7",
        "colab": {
          "base_uri": "https://localhost:8080/"
        },
        "outputId": "780ac1cf-5891-47b3-ba5b-11e871f39c57"
      },
      "outputs": [
        {
          "name": "stdout",
          "output_type": "stream",
          "text": [
            "Ingresa el primer número, de dos, para sumarlos 3\n"
          ]
        }
      ],
      "source": [
        "num1=input('Ingresa el primer número, de dos, para sumarlos ')\n"
      ]
    },
    {
      "cell_type": "code",
      "source": [
        "num2=input('Ingresa el segundo número ')"
      ],
      "metadata": {
        "colab": {
          "base_uri": "https://localhost:8080/"
        },
        "id": "UILsl_n_DjIO",
        "outputId": "848ba5c3-34e4-4531-e7b7-35b6a53fbd1d"
      },
      "id": "UILsl_n_DjIO",
      "execution_count": 26,
      "outputs": [
        {
          "name": "stdout",
          "output_type": "stream",
          "text": [
            "Ingresa el segundo número 9\n"
          ]
        }
      ]
    },
    {
      "cell_type": "code",
      "source": [
        "num1+num2"
      ],
      "metadata": {
        "colab": {
          "base_uri": "https://localhost:8080/",
          "height": 35
        },
        "id": "U_FVwkv1Dxft",
        "outputId": "f5cdf0ed-00ee-4f88-b19e-704580efb626"
      },
      "id": "U_FVwkv1Dxft",
      "execution_count": 28,
      "outputs": [
        {
          "output_type": "execute_result",
          "data": {
            "text/plain": [
              "'39'"
            ],
            "application/vnd.google.colaboratory.intrinsic+json": {
              "type": "string"
            }
          },
          "metadata": {},
          "execution_count": 28
        }
      ]
    },
    {
      "cell_type": "markdown",
      "id": "69fe69ee-445e-424c-bcd1-8af19b75ef4e",
      "metadata": {
        "id": "69fe69ee-445e-424c-bcd1-8af19b75ef4e"
      },
      "source": [
        "No se pudo, para que python pueda hay que usar **int()**"
      ]
    },
    {
      "cell_type": "code",
      "execution_count": 29,
      "id": "8dc93858-923a-41b8-b179-6025fd33878f",
      "metadata": {
        "id": "8dc93858-923a-41b8-b179-6025fd33878f",
        "colab": {
          "base_uri": "https://localhost:8080/"
        },
        "outputId": "90caa6c0-f976-4eeb-839e-d0d2510f236c"
      },
      "outputs": [
        {
          "name": "stdout",
          "output_type": "stream",
          "text": [
            "Ingresa el primer número, de dos, para sumarlos 3\n"
          ]
        }
      ],
      "source": [
        "num1=int(input('Ingresa el primer número, de dos, para sumarlos '))}"
      ]
    },
    {
      "cell_type": "code",
      "source": [
        "num2=int(input('Ingresa el segundo número '))"
      ],
      "metadata": {
        "colab": {
          "base_uri": "https://localhost:8080/"
        },
        "id": "Vg93O8irD-Tl",
        "outputId": "72d18ece-b6f8-493c-8cb4-a981f0a25d06"
      },
      "id": "Vg93O8irD-Tl",
      "execution_count": 30,
      "outputs": [
        {
          "name": "stdout",
          "output_type": "stream",
          "text": [
            "Ingresa el segundo número 9\n"
          ]
        }
      ]
    },
    {
      "cell_type": "code",
      "source": [
        "num1+num2"
      ],
      "metadata": {
        "colab": {
          "base_uri": "https://localhost:8080/"
        },
        "id": "TzGVexGVEDI1",
        "outputId": "8f2c72a8-319d-4398-f2a1-2b469e92b839"
      },
      "id": "TzGVexGVEDI1",
      "execution_count": 31,
      "outputs": [
        {
          "output_type": "execute_result",
          "data": {
            "text/plain": [
              "12"
            ]
          },
          "metadata": {},
          "execution_count": 31
        }
      ]
    },
    {
      "cell_type": "markdown",
      "id": "715564fc-75c1-4dd4-b115-89e1763246a4",
      "metadata": {
        "id": "715564fc-75c1-4dd4-b115-89e1763246a4"
      },
      "source": [
        "#### Por tu cuenta\n",
        "\n",
        "Usa float() para convertir \"6.2\" (una cadena) a un valor flotante"
      ]
    },
    {
      "cell_type": "code",
      "execution_count": 33,
      "id": "62e04f9b-7f4f-4a24-a17b-3a9210c6a8ce",
      "metadata": {
        "id": "62e04f9b-7f4f-4a24-a17b-3a9210c6a8ce"
      },
      "outputs": [],
      "source": [
        "a=\"6.2\""
      ]
    },
    {
      "cell_type": "code",
      "execution_count": 34,
      "id": "b747f326-73e0-40eb-9549-696ef4935c5e",
      "metadata": {
        "id": "b747f326-73e0-40eb-9549-696ef4935c5e"
      },
      "outputs": [],
      "source": [
        "b=float(a)"
      ]
    },
    {
      "cell_type": "code",
      "execution_count": 37,
      "id": "f01afb25-e78e-478a-b4f9-93de110705bf",
      "metadata": {
        "id": "f01afb25-e78e-478a-b4f9-93de110705bf",
        "colab": {
          "base_uri": "https://localhost:8080/"
        },
        "outputId": "3b2a2d0b-3ff0-407a-a63b-cde24d2d6d8a"
      },
      "outputs": [
        {
          "output_type": "execute_result",
          "data": {
            "text/plain": [
              "float"
            ]
          },
          "metadata": {},
          "execution_count": 37
        }
      ],
      "source": [
        "type(b)"
      ]
    },
    {
      "cell_type": "markdown",
      "id": "ff47d95b-02aa-4c5a-a539-df106c393c09",
      "metadata": {
        "id": "ff47d95b-02aa-4c5a-a539-df106c393c09"
      },
      "source": [
        "---"
      ]
    },
    {
      "cell_type": "markdown",
      "id": "02620ade-789c-4784-a14b-47095b74f033",
      "metadata": {
        "id": "02620ade-789c-4784-a14b-47095b74f033"
      },
      "source": [
        "## 2.4.- Primeros Programas con python"
      ]
    },
    {
      "cell_type": "markdown",
      "id": "056407e5-1261-49e1-81cc-d56e3107abb6",
      "metadata": {
        "id": "056407e5-1261-49e1-81cc-d56e3107abb6"
      },
      "source": [
        "Ejecuta el script ejemplo1_c2.py"
      ]
    },
    {
      "cell_type": "markdown",
      "id": "233bebf3-995f-47cb-9c2b-8ff13c938a44",
      "metadata": {
        "id": "233bebf3-995f-47cb-9c2b-8ff13c938a44"
      },
      "source": [
        "Recuerda que en python también podemos hacer comparaciones mayor y menor que"
      ]
    },
    {
      "cell_type": "markdown",
      "id": "3bffa3af-3dd7-4672-94d1-bbe18ae7247e",
      "metadata": {
        "id": "3bffa3af-3dd7-4672-94d1-bbe18ae7247e"
      },
      "source": [
        "Y que también, para cehcar si algo es igual, se usa =="
      ]
    },
    {
      "cell_type": "code",
      "execution_count": null,
      "id": "f452cf39-21cd-4b35-aa13-48b1604cc5d2",
      "metadata": {
        "id": "f452cf39-21cd-4b35-aa13-48b1604cc5d2"
      },
      "outputs": [],
      "source": [
        "print('Ingresa tu edad y la de tu mejor amigo,\\\n",
        " para decirte la relación qué hay entre ellas ')\n",
        "edad1=int(input('Ingresa tu edad: '))\n",
        "edad2=int(input('Ingresa la edad de tu mejor amigo: '))\n",
        "if edad1==edad2:\n",
        "    print(edad1,'es igual',edad2,'\\n Tu amigo y tú, tienen la misma edad.')\n",
        "if edad1 !=edad2:\n",
        "    print(edad1,' es diferente de',edad2,'\\n Tu amigo y tú tienen edades diferentes.')\n",
        "if edad1 < edad2:\n",
        "    print(edad1,' es menor que',edad2,'\\n Tu amigo es mayor que tú.')\n",
        "if edad1 > edad2:\n",
        "    print(edad1,' es mayor que',edad2,'\\n Tu amigo es menor que tú.')\n",
        "if edad1 <= edad2:\n",
        "    print(edad1,' es menor o igual a',edad2,'\\n Tu amigo tiene al menos, tu edad.')\n",
        "if edad1 > edad2:\n",
        "    print(edad1,' es mayor que',edad2,'\\n Tu amigo tiene a lo más, tu edad.')\n",
        "\n"
      ]
    },
    {
      "cell_type": "markdown",
      "id": "58b2b137-def5-4acb-ae48-f07f3783d3de",
      "metadata": {
        "id": "58b2b137-def5-4acb-ae48-f07f3783d3de"
      },
      "source": [
        "---"
      ]
    }
  ],
  "metadata": {
    "kernelspec": {
      "display_name": "Python 3",
      "language": "python",
      "name": "python3"
    },
    "language_info": {
      "codemirror_mode": {
        "name": "ipython",
        "version": 3
      },
      "file_extension": ".py",
      "mimetype": "text/x-python",
      "name": "python",
      "nbconvert_exporter": "python",
      "pygments_lexer": "ipython3",
      "version": "3.8.8"
    },
    "colab": {
      "provenance": []
    }
  },
  "nbformat": 4,
  "nbformat_minor": 5
}